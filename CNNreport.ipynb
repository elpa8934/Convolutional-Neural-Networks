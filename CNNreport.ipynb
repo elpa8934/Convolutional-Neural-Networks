{
 "cells": [
  {
   "cell_type": "markdown",
   "metadata": {},
   "source": [
    "# Final Kaggle Competition - Image Classification\n",
    "## Liz Parker, Colin Craighead, and Aren Dalloul"
   ]
  },
  {
   "cell_type": "code",
   "execution_count": 2,
   "metadata": {},
   "outputs": [
    {
     "name": "stderr",
     "output_type": "stream",
     "text": [
      "Using TensorFlow backend.\n"
     ]
    }
   ],
   "source": [
    "import numpy as np\n",
    "import matplotlib.pyplot as plt\n",
    "import pandas as pd\n",
    "import tensorflow as tf\n",
    "from keras import layers\n",
    "from keras import models\n",
    "from keras import utils\n",
    "from sklearn.model_selection import train_test_split"
   ]
  },
  {
   "cell_type": "markdown",
   "metadata": {},
   "source": [
    "## Preparing the Dataset"
   ]
  },
  {
   "cell_type": "code",
   "execution_count": 4,
   "metadata": {},
   "outputs": [],
   "source": [
    "#Load the dataset\n",
    "data = np.load('train_and_test.npz')"
   ]
  },
  {
   "cell_type": "code",
   "execution_count": 5,
   "metadata": {},
   "outputs": [
    {
     "name": "stdout",
     "output_type": "stream",
     "text": [
      "43\n"
     ]
    }
   ],
   "source": [
    "xTrain = data['X_train']\n",
    "yTrain = data['y_train']\n",
    "xTestFinal = data['X_test'] \n",
    "# Find out how many unique classifications in y_train\n",
    "# This will be the number of nodes in the output layer\n",
    "numClass = len(yTrain[0])\n",
    "print(numClass)"
   ]
  },
  {
   "cell_type": "code",
   "execution_count": 6,
   "metadata": {},
   "outputs": [],
   "source": [
    "#Split up the data set\n",
    "xTrain, xTest, yTrain, yTest = train_test_split(xTrain, yTrain, test_size=0.25, random_state=42)"
   ]
  },
  {
   "cell_type": "code",
   "execution_count": 8,
   "metadata": {},
   "outputs": [],
   "source": [
    "#Take a look at what kind of images we're classifying\n",
    "plt.imshow(xTrain[1].astype('uint8'))\n",
    "filename = 'test.png'\n",
    "plt.savefig(filename)\n",
    "plt.close()"
   ]
  },
  {
   "cell_type": "markdown",
   "metadata": {},
   "source": [
    "## Building the Baseline Model"
   ]
  },
  {
   "cell_type": "code",
   "execution_count": 49,
   "metadata": {},
   "outputs": [
    {
     "name": "stdout",
     "output_type": "stream",
     "text": [
      "Model: \"sequential_26\"\n",
      "_________________________________________________________________\n",
      "Layer (type)                 Output Shape              Param #   \n",
      "=================================================================\n",
      "conv2d_101 (Conv2D)          (None, 30, 30, 32)        896       \n",
      "_________________________________________________________________\n",
      "batch_normalization_98 (Batc (None, 30, 30, 32)        128       \n",
      "_________________________________________________________________\n",
      "activation_101 (Activation)  (None, 30, 30, 32)        0         \n",
      "_________________________________________________________________\n",
      "conv2d_102 (Conv2D)          (None, 28, 28, 32)        9248      \n",
      "_________________________________________________________________\n",
      "batch_normalization_99 (Batc (None, 28, 28, 32)        128       \n",
      "_________________________________________________________________\n",
      "activation_102 (Activation)  (None, 28, 28, 32)        0         \n",
      "_________________________________________________________________\n",
      "max_pooling2d_51 (MaxPooling (None, 14, 14, 32)        0         \n",
      "_________________________________________________________________\n",
      "conv2d_103 (Conv2D)          (None, 12, 12, 64)        18496     \n",
      "_________________________________________________________________\n",
      "batch_normalization_100 (Bat (None, 12, 12, 64)        256       \n",
      "_________________________________________________________________\n",
      "activation_103 (Activation)  (None, 12, 12, 64)        0         \n",
      "_________________________________________________________________\n",
      "conv2d_104 (Conv2D)          (None, 10, 10, 64)        36928     \n",
      "_________________________________________________________________\n",
      "batch_normalization_101 (Bat (None, 10, 10, 64)        256       \n",
      "_________________________________________________________________\n",
      "activation_104 (Activation)  (None, 10, 10, 64)        0         \n",
      "_________________________________________________________________\n",
      "max_pooling2d_52 (MaxPooling (None, 5, 5, 64)          0         \n",
      "_________________________________________________________________\n",
      "flatten_26 (Flatten)         (None, 1600)              0         \n",
      "_________________________________________________________________\n",
      "dense_26 (Dense)             (None, 43)                68843     \n",
      "=================================================================\n",
      "Total params: 135,179\n",
      "Trainable params: 134,795\n",
      "Non-trainable params: 384\n",
      "_________________________________________________________________\n"
     ]
    }
   ],
   "source": [
    "# Conv-Conv-Pool-Conv-Conv-Pool\n",
    "# 32-32-64-64 filter size\n",
    "# 3x3 filter size\n",
    "# No Padding\n",
    "# 2 maxpool layers\n",
    "\n",
    "baselineModel = models.Sequential()\n",
    "baselineModel.add(layers.Conv2D(32,(3,3),activation='relu', input_shape=(32, 32, 3)))\n",
    "baselineModel.add(layers.BatchNormalization())\n",
    "baselineModel.add(layers.Activation(\"relu\"))\n",
    "baselineModel.add(layers.Conv2D(32,(3,3),activation='relu'))\n",
    "baselineModel.add(layers.BatchNormalization())\n",
    "baselineModel.add(layers.Activation(\"relu\"))\n",
    "baselineModel.add(layers.MaxPooling2D((2, 2)))\n",
    "baselineModel.add(layers.Conv2D(64,(3,3),activation='relu'))\n",
    "baselineModel.add(layers.BatchNormalization())\n",
    "baselineModel.add(layers.Activation(\"relu\"))\n",
    "baselineModel.add(layers.Conv2D(64,(3,3),activation='relu'))\n",
    "baselineModel.add(layers.BatchNormalization())\n",
    "baselineModel.add(layers.Activation(\"relu\"))\n",
    "baselineModel.add(layers.MaxPooling2D((2, 2)))\n",
    "baselineModel.add(layers.Flatten())\n",
    "baselineModel.add(layers.Dense(43, activation='softmax'))\n",
    "baselineModel.summary()"
   ]
  },
  {
   "cell_type": "code",
   "execution_count": 50,
   "metadata": {},
   "outputs": [
    {
     "data": {
      "text/plain": [
       "<keras.callbacks.callbacks.History at 0x14d608ad0>"
      ]
     },
     "execution_count": 50,
     "metadata": {},
     "output_type": "execute_result"
    }
   ],
   "source": [
    "#Fit using 3 epochs\n",
    "baselineModel.compile(loss='categorical_crossentropy', optimizer='sgd', metrics=['categorical_accuracy'])\n",
    "baselineModel.fit(xTrain, yTrain, epochs=3, verbose=0)"
   ]
  },
  {
   "cell_type": "code",
   "execution_count": 51,
   "metadata": {},
   "outputs": [
    {
     "name": "stdout",
     "output_type": "stream",
     "text": [
      "Baseline Model Accuracy: 0.9840865135192871\n",
      "Baseline Model Loss: 0.05936306347479769\n"
     ]
    }
   ],
   "source": [
    "loss, acc = baselineModel.evaluate(xTest, yTest, verbose = 0)\n",
    "print('Baseline Model Accuracy:', acc)\n",
    "print('Baseline Model Loss:', loss)"
   ]
  },
  {
   "cell_type": "markdown",
   "metadata": {},
   "source": [
    "## Exploratory Analysis - Number of Filters\n",
    "**Large-to-Small number of filters - a backwards approach**"
   ]
  },
  {
   "cell_type": "code",
   "execution_count": 9,
   "metadata": {},
   "outputs": [
    {
     "name": "stdout",
     "output_type": "stream",
     "text": [
      "Large-to-Small Filters Accuracy: 0.9810262322425842\n",
      "Large-to-Small Filters Loss: 0.0785047400960423\n"
     ]
    }
   ],
   "source": [
    "LtoSmodel = models.Sequential()\n",
    "LtoSmodel.add(layers.Conv2D(64,(3,3),activation='relu', input_shape=(32, 32, 3)))\n",
    "LtoSmodel.add(layers.BatchNormalization())\n",
    "LtoSmodel.add(layers.Activation(\"relu\"))\n",
    "LtoSmodel.add(layers.Conv2D(64,(3,3),activation='relu'))\n",
    "LtoSmodel.add(layers.BatchNormalization())\n",
    "LtoSmodel.add(layers.Activation(\"relu\"))\n",
    "LtoSmodel.add(layers.MaxPooling2D((2, 2)))\n",
    "LtoSmodel.add(layers.Conv2D(32,(3,3),activation='relu'))\n",
    "LtoSmodel.add(layers.BatchNormalization())\n",
    "LtoSmodel.add(layers.Activation(\"relu\"))\n",
    "LtoSmodel.add(layers.Conv2D(32,(3,3),activation='relu'))\n",
    "LtoSmodel.add(layers.BatchNormalization())\n",
    "LtoSmodel.add(layers.Activation(\"relu\"))\n",
    "LtoSmodel.add(layers.MaxPooling2D((2, 2)))\n",
    "LtoSmodel.add(layers.Flatten())\n",
    "LtoSmodel.add(layers.Dense(43, activation='softmax'))\n",
    "\n",
    "LtoSmodel.compile(loss='categorical_crossentropy', optimizer='sgd', metrics=['categorical_accuracy'])\n",
    "LtoSmodel.fit(xTrain, yTrain, epochs=3, verbose = 0)\n",
    "\n",
    "loss, acc = LtoSmodel.evaluate(xTest, yTest, verbose = 0)\n",
    "print('Large-to-Small Filters Accuracy:', acc)\n",
    "print('Large-to-Small Filters Loss:', loss)"
   ]
  },
  {
   "cell_type": "markdown",
   "metadata": {},
   "source": [
    "#### Test Data Results (Number of Filters)\n",
    "The Small-to-Large forwards approach scored better performance"
   ]
  },
  {
   "cell_type": "markdown",
   "metadata": {},
   "source": [
    "| | Small-to-Large (Baseline Model) | Large-to-Small |\n",
    "|---|---|---|\n",
    "| Accuracy | 0.986 | 0.981 |\n",
    "| Cross Entropy | 0.0527 | 0.0785 |"
   ]
  },
  {
   "cell_type": "markdown",
   "metadata": {},
   "source": [
    "**Test and Visualization of Optimal Number of Filters**"
   ]
  },
  {
   "cell_type": "code",
   "execution_count": 10,
   "metadata": {},
   "outputs": [],
   "source": [
    "def CreateModel_VarLayers(num_filters=[2,4]):\n",
    "    Cmodel = models.Sequential()\n",
    "    Cmodel.add(layers.Conv2D(num_filters[0],(3,3),activation='relu', input_shape=(32, 32, 3)))\n",
    "    Cmodel.add(layers.BatchNormalization())\n",
    "    Cmodel.add(layers.Activation(\"relu\"))\n",
    "    Cmodel.add(layers.Conv2D(num_filters[0],(3,3),activation='relu'))\n",
    "    Cmodel.add(layers.BatchNormalization())\n",
    "    Cmodel.add(layers.Activation(\"relu\"))\n",
    "    Cmodel.add(layers.MaxPooling2D((2, 2)))\n",
    "    Cmodel.add(layers.Conv2D(num_filters[1],(3,3),activation='relu'))\n",
    "    Cmodel.add(layers.BatchNormalization())\n",
    "    Cmodel.add(layers.Activation(\"relu\"))\n",
    "    Cmodel.add(layers.Conv2D(num_filters[1],(3,3),activation='relu'))\n",
    "    Cmodel.add(layers.BatchNormalization())\n",
    "    Cmodel.add(layers.Activation(\"relu\"))\n",
    "    Cmodel.add(layers.MaxPooling2D((2, 2)))\n",
    "    Cmodel.add(layers.Flatten())\n",
    "    Cmodel.add(layers.Dense(43, activation='softmax'))\n",
    "    Cmodel.compile(loss='categorical_crossentropy', optimizer='sgd', metrics=['categorical_accuracy'])\n",
    "    Cmodel.fit(xTrain, yTrain, epochs=3, verbose = 0)\n",
    "    loss, acc = Cmodel.evaluate(xTest, yTest, verbose = 0)\n",
    "    return loss, acc"
   ]
  },
  {
   "cell_type": "code",
   "execution_count": 11,
   "metadata": {},
   "outputs": [],
   "source": [
    "Test_Layers_Sizes_arr = [[2,4],[4,8],[8,16],[16,32],[32,64],[64,128],[128,256]]\n",
    "loss_r_arr = []\n",
    "acc_r_arr = []\n",
    "for ls in Test_Layers_Sizes_arr:\n",
    "    loss_r, acc_r = CreateModel_VarLayers(ls)\n",
    "    loss_r_arr.append(loss_r)\n",
    "    acc_r_arr.append(acc_r)"
   ]
  },
  {
   "cell_type": "code",
   "execution_count": 69,
   "metadata": {},
   "outputs": [
    {
     "data": {
      "text/plain": [
       "<matplotlib.legend.Legend at 0x14dfea050>"
      ]
     },
     "execution_count": 69,
     "metadata": {},
     "output_type": "execute_result"
    },
    {
     "data": {
      "image/png": "[encoded data removed]",
      "text/plain": [
       "<Figure size 720x432 with 1 Axes>"
      ]
     },
     "metadata": {
      "needs_background": "light"
     },
     "output_type": "display_data"
    }
   ],
   "source": [
    "x = []\n",
    "for ls in Test_Layers_Sizes_arr:\n",
    "    x.append(sum(ls)*2)\n",
    "fig = plt.figure(figsize=(10, 6))\n",
    "ax = fig.add_subplot()\n",
    "ax.plot(x,acc_r_arr,'o-',label='Accuracy')\n",
    "ax.plot(x,loss_r_arr,'o-',label='Categorical Crossentropy')\n",
    "ax.set_title(\"Test Accuracy and Crossentropy with more Filters\")\n",
    "ax.set_xlabel(\"Number of Filters\")\n",
    "ax.axvline(x = 192, linewidth=2, color='g', ls = \"--\", label = \"192 - Baseline Model\")\n",
    "ax.legend()"
   ]
  },
  {
   "cell_type": "markdown",
   "metadata": {},
   "source": [
    "## Exploratory Analysis - Filter Size\n",
    "**Compare Small-to-Large, Large-to-Small, and Constant Filter Size**"
   ]
  },
  {
   "cell_type": "code",
   "execution_count": 13,
   "metadata": {},
   "outputs": [
    {
     "name": "stdout",
     "output_type": "stream",
     "text": [
      "Small to Large Accuracy: 0.9752116799354553\n",
      "Small to Large Loss: 0.0943693617042631\n"
     ]
    }
   ],
   "source": [
    "StoLmodel = models.Sequential()\n",
    "StoLmodel.add(layers.Conv2D(32,(1,1),activation='relu', input_shape=(32, 32, 3)))\n",
    "StoLmodel.add(layers.BatchNormalization())\n",
    "StoLmodel.add(layers.Activation(\"relu\"))\n",
    "StoLmodel.add(layers.Conv2D(32,(3,3),activation='relu'))\n",
    "StoLmodel.add(layers.BatchNormalization())\n",
    "StoLmodel.add(layers.Activation(\"relu\"))\n",
    "StoLmodel.add(layers.MaxPooling2D((2, 2)))\n",
    "StoLmodel.add(layers.Conv2D(64,(5,5),activation='relu'))\n",
    "StoLmodel.add(layers.BatchNormalization())\n",
    "StoLmodel.add(layers.Activation(\"relu\"))\n",
    "StoLmodel.add(layers.Conv2D(64,(7,7),activation='relu'))\n",
    "StoLmodel.add(layers.BatchNormalization())\n",
    "StoLmodel.add(layers.Activation(\"relu\"))\n",
    "StoLmodel.add(layers.MaxPooling2D((2, 2)))\n",
    "StoLmodel.add(layers.Flatten())\n",
    "StoLmodel.add(layers.Dense(43, activation='softmax'))\n",
    "StoLmodel.compile(loss='categorical_crossentropy', optimizer='sgd', metrics=['categorical_accuracy'])\n",
    "StoLmodel.fit(xTrain, yTrain, epochs=3, verbose = 0)\n",
    "loss, acc = StoLmodel.evaluate(xTest, yTest, verbose = 0)\n",
    "print('Small to Large Accuracy:', acc)\n",
    "print('Small to Large Loss:', loss)"
   ]
  },
  {
   "cell_type": "code",
   "execution_count": 14,
   "metadata": {},
   "outputs": [
    {
     "name": "stdout",
     "output_type": "stream",
     "text": [
      "Large to Small Accuracy: 0.9774558544158936\n",
      "Large to Small Loss: 0.09735409069780117\n"
     ]
    }
   ],
   "source": [
    "LtoSModel = models.Sequential()\n",
    "LtoSModel.add(layers.Conv2D(32,(7,7),activation='relu', input_shape=(32, 32, 3)))\n",
    "LtoSModel.add(layers.BatchNormalization())\n",
    "LtoSModel.add(layers.Activation(\"relu\"))\n",
    "LtoSModel.add(layers.Conv2D(32,(5,5),activation='relu'))\n",
    "LtoSModel.add(layers.BatchNormalization())\n",
    "LtoSModel.add(layers.Activation(\"relu\"))\n",
    "LtoSModel.add(layers.MaxPooling2D((2, 2)))\n",
    "LtoSModel.add(layers.Conv2D(64,(3,3),activation='relu'))\n",
    "LtoSModel.add(layers.BatchNormalization())\n",
    "LtoSModel.add(layers.Activation(\"relu\"))\n",
    "LtoSModel.add(layers.Conv2D(64,(1,1),activation='relu'))\n",
    "LtoSModel.add(layers.BatchNormalization())\n",
    "LtoSModel.add(layers.Activation(\"relu\"))\n",
    "LtoSModel.add(layers.MaxPooling2D((2, 2)))\n",
    "LtoSModel.add(layers.Flatten())\n",
    "LtoSModel.add(layers.Dense(43, activation='softmax'))\n",
    "LtoSModel.compile(loss='categorical_crossentropy', optimizer='sgd', metrics=['categorical_accuracy'])\n",
    "LtoSModel.fit(xTrain, yTrain, epochs=3, verbose = 0)\n",
    "loss, acc = LtoSModel.evaluate(xTest, yTest, verbose = 0)\n",
    "print('Large to Small Accuracy:', acc)\n",
    "print('Large to Small Loss:', loss)"
   ]
  },
  {
   "cell_type": "markdown",
   "metadata": {},
   "source": [
    "#### Test Data Results (Filter Size)\n",
    "Using a constant filter size scored the best performance"
   ]
  },
  {
   "cell_type": "markdown",
   "metadata": {},
   "source": [
    "| | Constant (Baseline Model) | Small-to-Large | Large-to-Small |\n",
    "|---|---|---|---|\n",
    "| Accuracy | 0.986 | 0.975 | 0.977 |\n",
    "| Cross Entropy | 0.0527 | 0.0943 | 0.0973 |"
   ]
  },
  {
   "cell_type": "markdown",
   "metadata": {},
   "source": [
    "**Test and Visualization of Optimal Number of Constant Size Filters**"
   ]
  },
  {
   "cell_type": "code",
   "execution_count": 15,
   "metadata": {},
   "outputs": [],
   "source": [
    "def CreateModel_VarFilterSize(fSize):\n",
    "    Cmodel = models.Sequential()\n",
    "    Cmodel.add(layers.Conv2D(32,(fSize,fSize),activation='relu', input_shape=(32, 32, 3)))\n",
    "    Cmodel.add(layers.BatchNormalization())\n",
    "    Cmodel.add(layers.Activation(\"relu\"))\n",
    "    Cmodel.add(layers.Conv2D(32,(fSize,fSize),activation='relu'))\n",
    "    Cmodel.add(layers.BatchNormalization())\n",
    "    Cmodel.add(layers.Activation(\"relu\"))\n",
    "    Cmodel.add(layers.MaxPooling2D((2, 2)))\n",
    "    Cmodel.add(layers.Conv2D(64,(fSize,fSize),activation='relu'))\n",
    "    Cmodel.add(layers.BatchNormalization())\n",
    "    Cmodel.add(layers.Activation(\"relu\"))\n",
    "    Cmodel.add(layers.Conv2D(64,(fSize,fSize),activation='relu'))\n",
    "    Cmodel.add(layers.BatchNormalization())\n",
    "    Cmodel.add(layers.Activation(\"relu\"))\n",
    "    Cmodel.add(layers.MaxPooling2D((2, 2)))\n",
    "    Cmodel.add(layers.Flatten())\n",
    "    Cmodel.add(layers.Dense(43, activation='softmax'))\n",
    "    Cmodel.compile(loss='categorical_crossentropy', optimizer='sgd', metrics=['categorical_accuracy'])\n",
    "    Cmodel.fit(xTrain, yTrain, epochs=3, verbose = 0)\n",
    "    loss, acc = Cmodel.evaluate(xTest, yTest, verbose = 0)\n",
    "    return loss, acc"
   ]
  },
  {
   "cell_type": "code",
   "execution_count": 66,
   "metadata": {},
   "outputs": [],
   "source": [
    "FilterSizes = [1,3,5]\n",
    "Loss = []\n",
    "Accs = []\n",
    "for sz in FilterSizes:\n",
    "    tmpL, tmpA = CreateModel_VarFilterSize(sz)\n",
    "    Loss.append(tmpL)\n",
    "    Accs.append(tmpA)"
   ]
  },
  {
   "cell_type": "code",
   "execution_count": 70,
   "metadata": {},
   "outputs": [
    {
     "name": "stdout",
     "output_type": "stream",
     "text": [
      "[0.7968989014625549, 0.9884729385375977, 0.9884729385375977]\n"
     ]
    },
    {
     "data": {
      "text/plain": [
       "<matplotlib.legend.Legend at 0x14fc92550>"
      ]
     },
     "execution_count": 70,
     "metadata": {},
     "output_type": "execute_result"
    },
    {
     "data": {
      "image/png": "[encoded data removed]",
      "text/plain": [
       "<Figure size 720x432 with 1 Axes>"
      ]
     },
     "metadata": {
      "needs_background": "light"
     },
     "output_type": "display_data"
    }
   ],
   "source": [
    "print(Accs)\n",
    "fig = plt.figure(figsize=(10, 6))\n",
    "ax = fig.add_subplot()\n",
    "ax.plot(FilterSizes,Accs,'o-',label='Accuracy')\n",
    "ax.plot(FilterSizes,Loss,'o-',label='Categorical Crossentropy')\n",
    "ax.set_title(\"Test Accuracy and Crossentropy vs. Filter Size\")\n",
    "ax.set_xlabel(\"Filter Size\")\n",
    "ax.axvline(x = 3, linewidth=2, color='g', ls = \"--\", label = \"3x3 - Baseline Model\")\n",
    "ax.legend()"
   ]
  },
  {
   "cell_type": "markdown",
   "metadata": {},
   "source": [
    "## Exploratory Analysis - Normalization Method\n",
    "**Exploring the effect of more/less batch normalization layers**"
   ]
  },
  {
   "cell_type": "code",
   "execution_count": 18,
   "metadata": {},
   "outputs": [],
   "source": [
    "def model_with_max_normalization(numEpochs=10):\n",
    "    maxNormModel = models.Sequential()\n",
    "    maxNormModel.add(layers.Conv2D(32,(3,3),activation='relu', input_shape=(32, 32, 3)))\n",
    "    maxNormModel.add(layers.BatchNormalization())\n",
    "    maxNormModel.add(layers.Activation(\"relu\"))\n",
    "    maxNormModel.add(layers.Conv2D(32,(3,3),activation='relu'))\n",
    "    maxNormModel.add(layers.BatchNormalization())\n",
    "    maxNormModel.add(layers.Activation(\"relu\"))\n",
    "    maxNormModel.add(layers.MaxPooling2D((2, 2)))\n",
    "    maxNormModel.add(layers.Conv2D(64,(3,3),activation='relu'))\n",
    "    maxNormModel.add(layers.BatchNormalization())\n",
    "    maxNormModel.add(layers.Activation(\"relu\"))\n",
    "    maxNormModel.add(layers.Conv2D(64,(3,3),activation='relu'))\n",
    "    maxNormModel.add(layers.BatchNormalization())\n",
    "    maxNormModel.add(layers.Activation(\"relu\"))\n",
    "    maxNormModel.add(layers.MaxPooling2D((2, 2)))\n",
    "    maxNormModel.add(layers.Flatten())\n",
    "    maxNormModel.add(layers.Dense(43, activation='softmax'))\n",
    "    maxNormModel.compile(loss='categorical_crossentropy', optimizer='sgd', metrics=['categorical_accuracy'])\n",
    "    maxNormModel.fit(xTrain, yTrain, epochs=numEpochs, verbose = 0)\n",
    "    loss, acc = baselineModel.evaluate(xTest, yTest, verbose = 0)\n",
    "    return loss, acc"
   ]
  },
  {
   "cell_type": "code",
   "execution_count": 19,
   "metadata": {},
   "outputs": [],
   "source": [
    "def model_with_min_normalization(numEpochs=10):\n",
    "    nModel = models.Sequential()\n",
    "    nModel.add(layers.Conv2D(32,(3,3),activation='relu', input_shape=(32, 32, 3)))\n",
    "    nModel.add(layers.Activation(\"relu\"))\n",
    "    nModel.add(layers.BatchNormalization())\n",
    "    nModel.add(layers.Conv2D(32,(3,3),activation='relu'))\n",
    "    nModel.add(layers.Activation(\"relu\"))\n",
    "    nModel.add(layers.MaxPooling2D((2, 2)))\n",
    "    nModel.add(layers.Conv2D(32,(3,3),activation='relu'))\n",
    "    nModel.add(layers.Activation(\"relu\"))\n",
    "    nModel.add(layers.Conv2D(32,(3,3),activation='relu'))\n",
    "    nModel.add(layers.Activation(\"relu\"))\n",
    "    nModel.add(layers.MaxPooling2D((2, 2)))\n",
    "    nModel.add(layers.Flatten())\n",
    "    nModel.add(layers.Dense(43, activation='softmax'))\n",
    "    nModel.compile(loss='categorical_crossentropy', optimizer='sgd', metrics=['categorical_accuracy'])\n",
    "    nModel.fit(xTrain, yTrain, epochs=numEpochs, verbose = 0)\n",
    "    loss, acc = nModel.evaluate(xTest, yTest, verbose = 0)\n",
    "    return loss, acc"
   ]
  },
  {
   "cell_type": "code",
   "execution_count": 20,
   "metadata": {},
   "outputs": [
    {
     "name": "stdout",
     "output_type": "stream",
     "text": [
      "Accuracy (w/ Max Normalization): 0.9868407845497131\n",
      "Loss (w/ Max Normalization): 0.052770754770637716\n"
     ]
    }
   ],
   "source": [
    "normLoss, normAcc = model_with_max_normalization()\n",
    "print('Accuracy (w/ Max Normalization): {}'.format(normAcc))\n",
    "print('Loss (w/ Max Normalization): {}'.format(normLoss))"
   ]
  },
  {
   "cell_type": "code",
   "execution_count": 21,
   "metadata": {},
   "outputs": [
    {
     "name": "stdout",
     "output_type": "stream",
     "text": [
      "Accuracy (w/ Min Normalization): 0.9895949959754944\n",
      "Loss (w/ Min Normalization): 0.048613815284289694\n"
     ]
    }
   ],
   "source": [
    "wo_norm_Loss, wo_norm_Acc = model_with_min_normalization()\n",
    "print('Accuracy (w/ Min Normalization): {}'.format(wo_norm_Acc))\n",
    "print('Loss (w/ Min Normalization): {}'.format(wo_norm_Loss))"
   ]
  },
  {
   "cell_type": "markdown",
   "metadata": {},
   "source": [
    "#### Test Data Results (with maximun and minimum normalization)\n",
    "The results show that there was statistically negligible difference in performance between the model using 4 normalization layers and the model using only 1"
   ]
  },
  {
   "cell_type": "markdown",
   "metadata": {},
   "source": [
    "| | With Max Normalization | With Min Normalization |\n",
    "|---|---|---|\n",
    "| Accuracy | 0.986 | 0.989 |\n",
    "| Cross Entropy | 0.0527 | 0.0486 |"
   ]
  },
  {
   "cell_type": "markdown",
   "metadata": {},
   "source": [
    "**Exploring the effect of a dropout layer on the model**"
   ]
  },
  {
   "cell_type": "code",
   "execution_count": 22,
   "metadata": {},
   "outputs": [],
   "source": [
    "def model_without_dropout(numEpochs=3, v=0):\n",
    "    noDropoutModel = models.Sequential()\n",
    "    noDropoutModel.add(layers.Conv2D(32,(3,3),activation='relu', input_shape=(32, 32, 3)))\n",
    "    noDropoutModel.add(layers.BatchNormalization())\n",
    "    noDropoutModel.add(layers.Activation(\"relu\"))\n",
    "    noDropoutModel.add(layers.Conv2D(32,(3,3),activation='relu'))\n",
    "    noDropoutModel.add(layers.BatchNormalization())\n",
    "    noDropoutModel.add(layers.Activation(\"relu\"))\n",
    "    noDropoutModel.add(layers.MaxPooling2D((2, 2)))\n",
    "    noDropoutModel.add(layers.Conv2D(64,(3,3),activation='relu'))\n",
    "    noDropoutModel.add(layers.BatchNormalization())\n",
    "    noDropoutModel.add(layers.Activation(\"relu\"))\n",
    "    noDropoutModel.add(layers.Conv2D(64,(3,3),activation='relu'))\n",
    "    noDropoutModel.add(layers.BatchNormalization())\n",
    "    noDropoutModel.add(layers.Activation(\"relu\"))\n",
    "    noDropoutModel.add(layers.MaxPooling2D((2, 2)))\n",
    "    noDropoutModel.add(layers.Flatten())\n",
    "    noDropoutModel.add(layers.Dense(43, activation='softmax'))\n",
    "    noDropoutModel.compile(loss='categorical_crossentropy', optimizer='sgd', metrics=['categorical_accuracy'])\n",
    "    noDropoutModel.fit(xTrain, yTrain, epochs=numEpochs, verbose=v)\n",
    "    loss, acc = noDropoutModel.evaluate(xTest, yTest, verbose = 0)\n",
    "    return loss, acc"
   ]
  },
  {
   "cell_type": "code",
   "execution_count": 23,
   "metadata": {},
   "outputs": [],
   "source": [
    "def model_with_dropout(dropoutRate=0.2, numEpochs=3, v=0):\n",
    "    nModel = models.Sequential()\n",
    "    nModel.add(layers.Conv2D(32,(3,3),activation='relu', input_shape=(32, 32, 3)))\n",
    "    nModel.add(layers.BatchNormalization())\n",
    "    nModel.add(layers.Activation(\"relu\"))\n",
    "    nModel.add(layers.Dropout(dropoutRate))\n",
    "    \n",
    "    nModel.add(layers.Conv2D(32,(3,3),activation='relu'))\n",
    "    nModel.add(layers.BatchNormalization())\n",
    "    nModel.add(layers.Activation(\"relu\"))\n",
    "    nModel.add(layers.Dropout(dropoutRate))\n",
    "    nModel.add(layers.MaxPooling2D((2, 2)))\n",
    "    nModel.add(layers.Conv2D(32,(3,3),activation='relu'))\n",
    "    nModel.add(layers.BatchNormalization())\n",
    "    nModel.add(layers.Activation(\"relu\"))\n",
    "    nModel.add(layers.Dropout(dropoutRate))\n",
    "    \n",
    "    nModel.add(layers.Conv2D(32,(3,3),activation='relu'))\n",
    "    nModel.add(layers.BatchNormalization())\n",
    "    nModel.add(layers.Activation(\"relu\"))\n",
    "    nModel.add(layers.MaxPooling2D((2, 2)))\n",
    "    nModel.add(layers.Flatten())\n",
    "    nModel.add(layers.Dense(43, activation='softmax'))\n",
    "    nModel.compile(loss='categorical_crossentropy', optimizer='sgd', metrics=['categorical_accuracy'])\n",
    "    nModel.fit(xTrain, yTrain, epochs=numEpochs, verbose=v)\n",
    "    loss, acc = nModel.evaluate(xTest, yTest, verbose = 0)\n",
    "    return loss, acc"
   ]
  },
  {
   "cell_type": "code",
   "execution_count": 24,
   "metadata": {},
   "outputs": [
    {
     "name": "stdout",
     "output_type": "stream",
     "text": [
      "Epoch 1/10\n",
      "29406/29406 [==============================] - 112s 4ms/step - loss: 1.5558 - categorical_accuracy: 0.5791\n",
      "Epoch 2/10\n",
      "29406/29406 [==============================] - 114s 4ms/step - loss: 0.3756 - categorical_accuracy: 0.8909\n",
      "Epoch 3/10\n",
      "29406/29406 [==============================] - 112s 4ms/step - loss: 0.1840 - categorical_accuracy: 0.9490\n",
      "Epoch 4/10\n",
      "29406/29406 [==============================] - 111s 4ms/step - loss: 0.1179 - categorical_accuracy: 0.9679\n",
      "Epoch 5/10\n",
      "29406/29406 [==============================] - 115s 4ms/step - loss: 0.0882 - categorical_accuracy: 0.9765\n",
      "Epoch 6/10\n",
      "29406/29406 [==============================] - 111s 4ms/step - loss: 0.0706 - categorical_accuracy: 0.9807\n",
      "Epoch 7/10\n",
      "29406/29406 [==============================] - 111s 4ms/step - loss: 0.0574 - categorical_accuracy: 0.9840\n",
      "Epoch 8/10\n",
      "29406/29406 [==============================] - 111s 4ms/step - loss: 0.0464 - categorical_accuracy: 0.9886\n",
      "Epoch 9/10\n",
      "29406/29406 [==============================] - 111s 4ms/step - loss: 0.0406 - categorical_accuracy: 0.9887\n",
      "Epoch 10/10\n",
      "29406/29406 [==============================] - 113s 4ms/step - loss: 0.0367 - categorical_accuracy: 0.9903\n",
      "Accuracy (w/ Dropout): 0.9947975277900696\n",
      "Loss (w/ Dropout): 0.03451609025418334\n"
     ]
    }
   ],
   "source": [
    "dropLoss, dropAcc = model_with_dropout(numEpochs=10, v=1)\n",
    "print('Accuracy (w/ Dropout): {}'.format(dropAcc))\n",
    "print('Loss (w/ Dropout): {}'.format(dropLoss))"
   ]
  },
  {
   "cell_type": "code",
   "execution_count": 25,
   "metadata": {},
   "outputs": [
    {
     "name": "stdout",
     "output_type": "stream",
     "text": [
      "Epoch 1/10\n",
      "29406/29406 [==============================] - 157s 5ms/step - loss: 0.8117 - categorical_accuracy: 0.7967\n",
      "Epoch 2/10\n",
      "29406/29406 [==============================] - 138s 5ms/step - loss: 0.0835 - categorical_accuracy: 0.9812\n",
      "Epoch 3/10\n",
      "29406/29406 [==============================] - 137s 5ms/step - loss: 0.0335 - categorical_accuracy: 0.9935\n",
      "Epoch 4/10\n",
      "29406/29406 [==============================] - 143s 5ms/step - loss: 0.0177 - categorical_accuracy: 0.9972\n",
      "Epoch 5/10\n",
      "29406/29406 [==============================] - 150s 5ms/step - loss: 0.0088 - categorical_accuracy: 0.9994\n",
      "Epoch 6/10\n",
      "29406/29406 [==============================] - 140s 5ms/step - loss: 0.0064 - categorical_accuracy: 0.9996\n",
      "Epoch 7/10\n",
      "29406/29406 [==============================] - 138s 5ms/step - loss: 0.0043 - categorical_accuracy: 0.9998\n",
      "Epoch 8/10\n",
      "29406/29406 [==============================] - 136s 5ms/step - loss: 0.0036 - categorical_accuracy: 0.9999\n",
      "Epoch 9/10\n",
      "29406/29406 [==============================] - 196s 7ms/step - loss: 0.0027 - categorical_accuracy: 1.0000\n",
      "Epoch 10/10\n",
      "29406/29406 [==============================] - 195s 7ms/step - loss: 0.0023 - categorical_accuracy: 1.0000\n",
      "Accuracy (No Dropout): 0.9939814209938049\n",
      "Loss (No Dropout): 0.02489591721222728\n"
     ]
    }
   ],
   "source": [
    "noDropLoss, noDropAcc = model_without_dropout(numEpochs=10, v=1)\n",
    "print('Accuracy (No Dropout): {}'.format(noDropAcc))\n",
    "print('Loss (No Dropout): {}'.format(noDropLoss))"
   ]
  },
  {
   "cell_type": "markdown",
   "metadata": {},
   "source": [
    "#### Results (with and without dropout, epochs = 10)\n",
    "Again, the results show a negligible difference between using or not using a dropout layer. In looking at the verbose training at each epoch, it is interesting to note how much more quickly the accuracy increases in the model without dropout compared to the model with dropout. This is to be expected since the dropout layer is attempting to reduce overfitting of the model."
   ]
  },
  {
   "cell_type": "markdown",
   "metadata": {},
   "source": [
    "| | With Dropout | Without Dropout |\n",
    "|---|---|---|\n",
    "| Accuracy | 0.994 | 0.993 |\n",
    "| Cross Entropy | 0.0345| 0.024 |"
   ]
  },
  {
   "cell_type": "code",
   "execution_count": 73,
   "metadata": {},
   "outputs": [],
   "source": [
    "dropoutRates = [0.05, 0.2,0.4,0.5]\n",
    "Loss = []\n",
    "Accs = []\n",
    "for i in dropoutRates:\n",
    "    tmpL, tmpA = model_with_dropout(i, numEpochs=5, v=0)\n",
    "    Loss.append(tmpL)\n",
    "    Accs.append(tmpA)"
   ]
  },
  {
   "cell_type": "code",
   "execution_count": 74,
   "metadata": {},
   "outputs": [
    {
     "data": {
      "text/plain": [
       "<matplotlib.legend.Legend at 0x150eedd10>"
      ]
     },
     "execution_count": 74,
     "metadata": {},
     "output_type": "execute_result"
    },
    {
     "data": {
      "image/png": "[encoded data removed]",
      "text/plain": [
       "<Figure size 432x288 with 1 Axes>"
      ]
     },
     "metadata": {
      "needs_background": "light"
     },
     "output_type": "display_data"
    }
   ],
   "source": [
    "fig = plt.figure()\n",
    "ax = fig.add_subplot()\n",
    "ax.plot(dropoutRates,Accs,'o-',label='Accuracy')\n",
    "ax.plot(dropoutRates,Loss,'o-',label='Categorical Crossentropy')\n",
    "ax.set_title(\"Test Accuracy and Crossentropy vs. Dropout Rate\")\n",
    "ax.set_xlabel(\"Dropout Rate\")\n",
    "ax.legend()"
   ]
  },
  {
   "cell_type": "markdown",
   "metadata": {},
   "source": [
    "Lower dropout rates show better model performance "
   ]
  },
  {
   "cell_type": "markdown",
   "metadata": {},
   "source": [
    "## Final Model"
   ]
  },
  {
   "cell_type": "markdown",
   "metadata": {},
   "source": [
    "All our tests supported the architecture of the baseline model. The normalization and dropout tests that used more epochs when fitting had better performance, so we decided to use 10 epochs to train the final model. "
   ]
  },
  {
   "cell_type": "code",
   "execution_count": 57,
   "metadata": {},
   "outputs": [
    {
     "name": "stdout",
     "output_type": "stream",
     "text": [
      "Final Model Accuracy: 0.9933694005012512\n",
      "Final Model Loss: 0.027011518850269672\n"
     ]
    }
   ],
   "source": [
    "finalModel = models.Sequential()\n",
    "finalModel.add(layers.Conv2D(32,(3,3),activation='relu', input_shape=(32, 32, 3)))\n",
    "finalModel.add(layers.BatchNormalization())\n",
    "finalModel.add(layers.Activation(\"relu\"))\n",
    "finalModel.add(layers.Conv2D(32,(3,3),activation='relu'))\n",
    "finalModel.add(layers.BatchNormalization())\n",
    "finalModel.add(layers.Activation(\"relu\"))\n",
    "finalModel.add(layers.MaxPooling2D((2, 2)))\n",
    "finalModel.add(layers.Conv2D(64,(3,3),activation='relu'))\n",
    "finalModel.add(layers.BatchNormalization())\n",
    "finalModel.add(layers.Activation(\"relu\"))\n",
    "finalModel.add(layers.Conv2D(64,(3,3),activation='relu'))\n",
    "finalModel.add(layers.BatchNormalization())\n",
    "finalModel.add(layers.Activation(\"relu\"))\n",
    "finalModel.add(layers.MaxPooling2D((2, 2)))\n",
    "finalModel.add(layers.Flatten())\n",
    "finalModel.add(layers.Dense(43, activation='softmax'))\n",
    "finalModel.compile(loss='categorical_crossentropy', optimizer='sgd', metrics=['categorical_accuracy'])\n",
    "finalModel.fit(xTrain, yTrain, epochs=10, verbose=0)\n",
    "loss, acc = finalModel.evaluate(xTest, yTest, verbose = 0)\n",
    "print('Final Model Accuracy:', acc)\n",
    "print('Final Model Loss:', loss)"
   ]
  },
  {
   "cell_type": "markdown",
   "metadata": {},
   "source": [
    "## Output Predictions to .csv File for Kaggle Submission"
   ]
  },
  {
   "cell_type": "code",
   "execution_count": 53,
   "metadata": {},
   "outputs": [],
   "source": [
    "yPred = finalModel.predict(xTestFinal)"
   ]
  },
  {
   "cell_type": "code",
   "execution_count": 54,
   "metadata": {},
   "outputs": [],
   "source": [
    "# Output to data file\n",
    "yOutput = []\n",
    "for i in range(len(yPred)):\n",
    "    zro = [0] * numClass\n",
    "    yOutput.append(zro)\n",
    "xOutput= [0] * len(yPred)\n",
    "for i in range(len(yPred)):\n",
    "    theIndex = np.where(yPred[i] == np.amax(yPred[i]))[0][0]\n",
    "    yOutput[i][theIndex] = 1 \n",
    "    xOutput[i] = i"
   ]
  },
  {
   "cell_type": "code",
   "execution_count": 55,
   "metadata": {},
   "outputs": [],
   "source": [
    "predDF = pd.DataFrame({'id':xOutput})\n",
    "for i in range(len(yOutput[0])):\n",
    "    label = 'oh_' + str(i)\n",
    "    newCol = []\n",
    "    for dp in yOutput:\n",
    "        newCol.append(dp[i])\n",
    "    predDF[label] = pd.Series(newCol, index=predDF.index)"
   ]
  },
  {
   "cell_type": "code",
   "execution_count": 56,
   "metadata": {},
   "outputs": [],
   "source": [
    "predDF.to_csv(\"test_output.csv\",index=False)"
   ]
  },
  {
   "cell_type": "code",
   "execution_count": null,
   "metadata": {},
   "outputs": [],
   "source": []
  }
 ],
 "metadata": {
  "kernelspec": {
   "display_name": "Python 3",
   "language": "python",
   "name": "python3"
  },
  "language_info": {
   "codemirror_mode": {
    "name": "ipython",
    "version": 3
   },
   "file_extension": ".py",
   "mimetype": "text/x-python",
   "name": "python",
   "nbconvert_exporter": "python",
   "pygments_lexer": "ipython3",
   "version": "3.7.6"
  }
 },
 "nbformat": 4,
 "nbformat_minor": 4
}
